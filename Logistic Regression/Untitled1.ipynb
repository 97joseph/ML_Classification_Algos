{
 "cells": [
  {
   "cell_type": "code",
   "execution_count": null,
   "metadata": {},
   "outputs": [],
   "source": [
    "Logistic Regression hands on\n",
    "This is a hands on exercise for logistic regression machine learning algorithm.\n",
    "Logistic regression is a very popular classification algorithm . \n",
    "It is a statistical machine learning technique for classifying records.\n",
    "Basically we use one or more independent variables (X) to caluclate dependent variable having a categorical value like 0 or 1 , yes or no, true or false. \n",
    "In this example we are using binary classification i.e 0/1.\n",
    "\n",
    "But hey can't we use Linear Regression for that. Yes we can but linear regression gives us the value result ie. in this case the taget of 5 years will be met or not which is a true (1) or false (0) classification. But well we can't be 100% sure if our target will be met or not. We can only calculate the probability of this. \n",
    "So whenever we have to calculate the probability of the occurence of some event based upon some other given circumstances (features or X in our case) we use Logistic Regression. \n",
    "Linear regression can be used to map those probablistic values into labels or categories later.\n",
    "Probability of a 5 years target going to meet = 1- (Probability of a 5 years target not going to meet) given circumstances X\n",
    "\n",
    "Logistic Regression\n",
    "\n",
    "\n",
    "Now lets go on with the code\n",
    "First we will import all required libraries\n",
    "\n",
    "numpy :- For processing data\n",
    "matplotlib :- For visulaization\n",
    "Seaborn :- Same for visulaization\n",
    "LogisticRegression :- For model training and prediction\n",
    "train_test_split :- For validating our model\n",
    "os :- For reading input\n",
    "pandas :- For reading input"
   ]
  },
  {
   "cell_type": "code",
   "execution_count": null,
   "metadata": {},
   "outputs": [],
   "source": [
    "import numpy as np # linear algebra\n",
    "import pandas as pd # data processing, CSV file I/O (e.g. pd.read_csv)\n",
    "import matplotlib.pyplot as plt \n",
    "plt.rc(\"font\", size=14)\n",
    "from sklearn.linear_model import LogisticRegression\n",
    "from sklearn.model_selection import train_test_split\n",
    "import seaborn as sns\n",
    "import os\n",
    "print(os.listdir(\"../input\"))"
   ]
  },
  {
   "cell_type": "code",
   "execution_count": null,
   "metadata": {},
   "outputs": [],
   "source": [
    "train = pd.read_csv(\"../input/train.csv\")\n",
    "test = pd.read_csv(\"../input/test.csv\")\n",
    "#Check the data\n",
    "train.describe()"
   ]
  },
  {
   "cell_type": "code",
   "execution_count": null,
   "metadata": {},
   "outputs": [],
   "source": [
    "#Understand features by drawing a correlation mapo\n",
    "corrmat = train.corr(method='pearson')\n",
    "f, ax = plt.subplots(figsize=(12, 10))\n",
    "sns.heatmap(corrmat, ax=ax, cmap=\"YlGnBu\", linewidths=0.1)\n"
   ]
  },
  {
   "cell_type": "code",
   "execution_count": null,
   "metadata": {},
   "outputs": [],
   "source": [
    "#Check if data has null values\n",
    "train.columns[train.isna().any()].tolist()"
   ]
  },
  {
   "cell_type": "code",
   "execution_count": null,
   "metadata": {},
   "outputs": [],
   "source": [
    "#If data has null values fit it with arbitrary values\n",
    "train.fillna(9999, inplace=True)\n",
    "test.fillna(9999, inplace=True)"
   ]
  },
  {
   "cell_type": "code",
   "execution_count": null,
   "metadata": {},
   "outputs": [],
   "source": [
    "Now we will create or X and Y columns.\n",
    "\n",
    "X :- It is traing features and we have to see which features affect out target value. "
   ]
  },
  {
   "cell_type": "code",
   "execution_count": null,
   "metadata": {},
   "outputs": [],
   "source": [
    "X = train.drop([\"TARGET_5Yrs\", \"Id\", \"Name\"], axis = 1)\n",
    "Y = train[\"TARGET_5Yrs\"]"
   ]
  },
  {
   "cell_type": "code",
   "execution_count": null,
   "metadata": {},
   "outputs": [],
   "source": [
    "It is very important to validate your model \n",
    ". We can do that by calculating cross validation score. \n",
    "Sklearn provides an amazing function for that which is train_test_split . \n",
    "This divides our traing data into 2 parts.\n",
    "One one part we will do training and on another we will test and calculate cross validation score"
   ]
  },
  {
   "cell_type": "code",
   "execution_count": null,
   "metadata": {},
   "outputs": [],
   "source": []
  }
 ],
 "metadata": {
  "kernelspec": {
   "display_name": "Python 3",
   "language": "python",
   "name": "python3"
  },
  "language_info": {
   "codemirror_mode": {
    "name": "ipython",
    "version": 3
   },
   "file_extension": ".py",
   "mimetype": "text/x-python",
   "name": "python",
   "nbconvert_exporter": "python",
   "pygments_lexer": "ipython3",
   "version": "3.7.7"
  }
 },
 "nbformat": 4,
 "nbformat_minor": 4
}
